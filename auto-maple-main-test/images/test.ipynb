{
 "cells": [
  {
   "cell_type": "markdown",
   "metadata": {},
   "source": [
    "## 8/15\n"
   ]
  },
  {
   "cell_type": "code",
   "execution_count": 3,
   "metadata": {
    "scrolled": true
   },
   "outputs": [
    {
     "data": {
      "application/javascript": [
       "\n",
       "Jupyter.keyboard_manager.command_shortcuts.add_shortcut('r', {\n",
       "    help : 'run all cells',\n",
       "    help_index : 'zz',\n",
       "    handler : function (event) {\n",
       "        IPython.notebook.execute_all_cells();\n",
       "        return false;\n",
       "    }}\n",
       ");\n"
      ],
      "text/plain": [
       "<IPython.core.display.Javascript object>"
      ]
     },
     "metadata": {},
     "output_type": "display_data"
    }
   ],
   "source": [
    "%%javascript\n",
    "\n",
    "Jupyter.keyboard_manager.command_shortcuts.add_shortcut('r', {\n",
    "    help : 'run all cells',\n",
    "    help_index : 'zz',\n",
    "    handler : function (event) {\n",
    "        IPython.notebook.execute_all_cells();\n",
    "        return false;\n",
    "    }}\n",
    ");"
   ]
  },
  {
   "cell_type": "code",
   "execution_count": 4,
   "metadata": {},
   "outputs": [],
   "source": [
    "# GUI\n",
    "from tkinter import *\n",
    "from tkinter import scrolledtext\n",
    "from tkinter import simpledialog\n",
    "from tkinter import messagebox\n",
    "import random\n",
    "\n",
    "# macro\n",
    "from pyautogui import *\n",
    "import pyautogui\n",
    "import time\n",
    "import keyboard\n",
    "import random"
   ]
  },
  {
   "cell_type": "code",
   "execution_count": 21,
   "metadata": {},
   "outputs": [],
   "source": [
    "# hunting\n",
    "def hunting():\n",
    "    print(pyautogui.displayMousePosition())\n",
    "    print(\"\\n\")\n",
    "    \n",
    "\n",
    "\n",
    "def testing():\n",
    "    print(\"hello\")\n",
    "    print(\"\\n\")\n",
    "    print(\"world\")\n",
    "\n",
    "\n",
    "    "
   ]
  },
  {
   "cell_type": "code",
   "execution_count": 23,
   "metadata": {},
   "outputs": [
    {
     "name": "stdout",
     "output_type": "stream",
     "text": [
      "Press Ctrl-C to quit.\n",
      "X:  569 Y:  212 RGB: (207, 207, 20X:  569 Y:  212 RGB: (230, 230, 23X:  569 Y:  212 RGB: (230, 230, 23X:  569 Y:  212 RGB: (230, 230, 23X:  569 Y:  212 RGB: (230, 230, 23X:  569 Y:  212 RGB: (230, 230, 23X:  569 Y:  212 RGB: (230, 230, 23X:  569 Y:  212 RGB: (230, 230, 23X:  569 Y:  212 RGB: (230, 230, 23X:  569 Y:  212 RGB: (230, 230, 23X:  569 Y:  212 RGB: (230, 230, 23X:  569 Y:  212 RGB: (230, 230, 23X:  569 Y:  212 RGB: (230, 230, 23X:  569 Y:  212 RGB: (230, 230, 23X:  569 Y:  212 RGB: (230, 230, 23X:  569 Y:  212 RGB: (230, 230, 23X:  569 Y:  212 RGB: (230, 230, 23X:  569 Y:  212 RGB: (230, 230, 23X:  569 Y:  212 RGB: (230, 230, 23X:  569 Y:  212 RGB: (230, 230, 23X:  569 Y:  212 RGB: (230, 230, 23X:  569 Y:  212 RGB: (230, 230, 23X:  569 Y:  212 RGB: (230, 230, 23X:  569 Y:  212 RGB: (230, 230, 23X:  569 Y:  212 RGB: (207, 207, 20X:  569 Y:  212 RGB: (207, 207, 20X:  569 Y:  212 RGB: (207, 207, 20X:  569 Y:  212 RGB: (230, 230, 23X:  569 Y:  212 RGB: (230, 230, 23X:  569 Y:  212 RGB: (230, 230, 23X:  569 Y:  212 RGB: (230, 230, 23X:  569 Y:  212 RGB: (230, 230, 23X:  569 Y:  212 RGB: (230, 230, 23X:  569 Y:  212 RGB: (230, 230, 23X:  569 Y:  212 RGB: (230, 230, 23X:  569 Y:  212 RGB: (230, 230, 23X:  569 Y:  212 RGB: (230, 230, 23X:  569 Y:  212 RGB: (230, 230, 23X:  569 Y:  212 RGB: (230, 230, 23X:  569 Y:  212 RGB: (230, 230, 23X:  569 Y:  212 RGB: (230, 230, 23X:  569 Y:  212 RGB: (230, 230, 23X:  569 Y:  212 RGB: (230, 230, 23X:  569 Y:  212 RGB: (230, 230, 23X:  569 Y:  212 RGB: (230, 230, 23X:  569 Y:  212 RGB: (230, 230, 23X:  569 Y:  212 RGB: (230, 230, 23X:  569 Y:  212 RGB: (230, 230, 23X:  569 Y:  212 RGB: (230, 230, 23X:  569 Y:  212 RGB: (230, 230, 23X:  569 Y:  212 RGB: (230, 230, 23X:  568 Y:  333 RGB: (247, 247, 24X:  568 Y:  501 RGB: (255, 255, 25X:  571 Y:  545 RGB: (255, 255, 25X:  575 Y:  560 RGB: (255, 255, 25X:  578 Y:  568 RGB: (255, 255, 25X:  578 Y:  568 RGB: (255, 255, 25X:  578 Y:  568 RGB: (255, 255, 25X:  578 Y:  568 RGB: (255, 255, 25X:  587 Y:  571 RGB: (255, 255, 25X:  702 Y:  599 RGB: (255, 255, 25X:  734 Y:  610 RGB: (255, 255, 25X:  734 Y:  610 RGB: (255, 255, 25X:  734 Y:  610 RGB: (255, 255, 25X:  734 Y:  610 RGB: (255, 255, 25X:  734 Y:  610 RGB: (255, 255, 25X:  737 Y:  614 RGB: (255, 255, 25X:  761 Y:  647 RGB: (255, 255, 25X:  857 Y:  756 RGB: (255, 255, 25X:  876 Y:  783 RGB: (255, 255, 25X:  876 Y:  783 RGB: (255, 255, 25X:  876 Y:  783 RGB: (255, 255, 25X:  876 Y:  783 RGB: (255, 255, 25X:  876 Y:  783 RGB: (255, 255, 25X:  876 Y:  783 RGB: (255, 255, 25X:  876 Y:  783 RGB: (255, 255, 25X:  876 Y:  783 RGB: (255, 255, 25X:  876 Y:  783 RGB: (255, 255, 25X:  876 Y:  783 RGB: (255, 255, 25X:  876 Y:  783 RGB: (255, 255, 25X:  876 Y:  783 RGB: (255, 255, 25X:  876 Y:  783 RGB: (255, 255, 25X:  876 Y:  783 RGB: (255, 255, 25X:  876 Y:  783 RGB: (255, 255, 25X:  876 Y:  783 RGB: (255, 255, 25X:  876 Y:  783 RGB: (255, 255, 25X:  876 Y:  783 RGB: (255, 255, 25X:  876 Y:  783 RGB: (255, 255, 25X:  876 Y:  783 RGB: (255, 255, 25X:  876 Y:  783 RGB: (255, 255, 25X:  876 Y:  783 RGB: (255, 255, 25X:  876 Y:  783 RGB: (255, 255, 25X:  876 Y:  783 RGB: (  0,   0,   X:  876 Y:  783 RGB: (255, 255, 25X:  876 Y:  783 RGB: (  0,   0,   X:  876 Y:  783 RGB: (  0,   0,   X:  876 Y:  783 RGB: (  0,   0,   X:  876 Y:  783 RGB: (  0,   0,   X:  876 Y:  783 RGB: (  0,   0,   X:  876 Y:  783 RGB: (  0,   0,   X:  876 Y:  783 RGB: (  0,   0,   X:  876 Y:  783 RGB: (  0,   0,   X:  876 Y:  783 RGB: (  0,   0,   X:  876 Y:  783 RGB: (  0,   0,   X:  876 Y:  783 RGB: (  0,   0,   X:  876 Y:  783 RGB: (  0,   0,   X:  876 Y:  783 RGB: (  0,   0,   X:  876 Y:  783 RGB: (  0,   0,   X:  876 Y:  783 RGB: (  0,   0,   X:  872 Y:  782 RGB: (255, 255, 25X:  872 Y:  782 RGB: (255, 255, 25X:  871 Y:  781 RGB: (255, 255, 25X:  871 Y:  781 RGB: (255, 255, 25X:  871 Y:  781 RGB: (255, 255, 25X:  871 Y:  781 RGB: (255, 255, 25X:  871 Y:  781 RGB: (255, 255, 25X:  871 Y:  781 RGB: (255, 255, 25X:  871 Y:  781 RGB: (255, 255, 25X:  871 Y:  781 RGB: (255, 255, 25X:  871 Y:  781 RGB: (255, 255, 25X:  871 Y:  781 RGB: (255, 255, 25X:  871 Y:  781 RGB: (255, 255, 25X:  871 Y:  781 RGB: (255, 255, 25X:  871 Y:  781 RGB: (255, 255, 25X:  871 Y:  781 RGB: (255, 255, 25X:  871 Y:  781 RGB: (255, 255, 25X:  871 Y:  781 RGB: (255, 255, 25X:  871 Y:  781 RGB: (255, 255, 25X:  871 Y:  781 RGB: (255, 255, 25X:  871 Y:  781 RGB: (255, 255, 25X:  871 Y:  781 RGB: (255, 255, 25X:  871 Y:  781 RGB: (255, 255, 25X:  871 Y:  781 RGB: (255, 255, 25X:  871 Y:  781 RGB: (255, 255, 25X:  871 Y:  781 RGB: (255, 255, 25X:  871 Y:  781 RGB: (255, 255, 25X:  871 Y:  781 RGB: (255, 255, 25X:  871 Y:  781 RGB: (255, 255, 25X:  871 Y:  781 RGB: (255, 255, 25X:  871 Y:  781 RGB: (255, 255, 25X:  871 Y:  781 RGB: (255, 255, 25X:  871 Y:  781 RGB: (255, 255, 25X:  871 Y:  781 RGB: (255, 255, 25X:  871 Y:  781 RGB: (255, 255, 25X:  863 Y:  759 RGB: (255, 255, 25X:  860 Y:  746 RGB: (255, 255, 25X:  860 Y:  746 RGB: (255, 255, 25X:  860 Y:  746 RGB: (255, 255, 25X:  860 Y:  746 RGB: (255, 255, 25X:  860 Y:  746 RGB: (255, 255, 25X:  860 Y:  746 RGB: (255, 255, 25X:  860 Y:  746 RGB: (255, 255, 25X:  860 Y:  746 RGB: (255, 255, 25X:  860 Y:  746 RGB: (255, 255, 25X:  860 Y:  746 RGB: (255, 255, 25X:  860 Y:  746 RGB: (255, 255, 25X:  860 Y:  746 RGB: (255, 255, 25X:  860 Y:  746 RGB: (255, 255, 25X:  860 Y:  746 RGB: (255, 255, 25X:  860 Y:  746 RGB: (255, 255, 25X:  860 Y:  746 RGB: (255, 255, 25X:  860 Y:  746 RGB: (255, 255, 25X:  860 Y:  746 RGB: (255, 255, 25X:  860 Y:  746 RGB: (255, 255, 25X:  860 Y:  746 RGB: (255, 255, 25X:  860 Y:  746 RGB: (255, 255, 25X:  860 Y:  746 RGB: (255, 255, 25X:  860 Y:  746 RGB: (255, 255, 25X:  860 Y:  746 RGB: (255, 255, 25X:  860 Y:  746 RGB: (255, 255, 25X:  860 Y:  746 RGB: (255, 255, 25X:  860 Y:  746 RGB: (255, 255, 25X:  860 Y:  746 RGB: (255, 255, 25X:  860 Y:  746 RGB: (255, 255, 25X:  860 Y:  746 RGB: (255, 255, 25X:  860 Y:  746 RGB: (255, 255, 25X:  860 Y:  746 RGB: (255, 255, 25X:  860 Y:  746 RGB: (255, 255, 25X:  860 Y:  746 RGB: (255, 255, 25X:  860 Y:  746 RGB: (255, 255, 25X:  860 Y:  746 RGB: (255, 255, 25X:  860 Y:  746 RGB: (255, 255, 25X:  860 Y:  746 RGB: (255, 255, 25X:  860 Y:  746 RGB: (255, 255, 25X:  860 Y:  746 RGB: (255, 255, 25X:  860 Y:  746 RGB: (255, 255, 25X:  860 Y:  746 RGB: (255, 255, 25X:  860 Y:  746 RGB: (255, 255, 25X:  860 Y:  746 RGB: (255, 255, 25X:  860 Y:  746 RGB: (255, 255, 25X:  860 Y:  746 RGB: (255, 255, 25X:  860 Y:  746 RGB: (255, 255, 25X:  823 Y:  648 RGB: (255, 255, 25X:  654 Y:  319 RGB: (247, 247, 24X:  607 Y:  189 RGB: (248, 248, 24X:  607 Y:  188 RGB: (248, 248, 24X:  607 Y:  188 RGB: (248, 248, 24X:  607 Y:  188 RGB: (248, 248, 24X:  611 Y:  191 RGB: (248, 248, 24X:  622 Y:  200 RGB: (255, 255, 25X:  628 Y:  212 RGB: (230, 230, 23X:  628 Y:  212 RGB: (230, 230, 23X:  628 Y:  212 RGB: (230, 230, 23X:  620 Y:  215 RGB: (230, 230, 23X:  616 Y:  215 RGB: ( 51,  51,  5X:  616 Y:  215 RGB: ( 51,  51,  5\n",
      "None\n"
     ]
    }
   ],
   "source": [
    "hunting()"
   ]
  },
  {
   "cell_type": "code",
   "execution_count": null,
   "metadata": {},
   "outputs": [],
   "source": []
  },
  {
   "cell_type": "code",
   "execution_count": null,
   "metadata": {},
   "outputs": [],
   "source": []
  }
 ],
 "metadata": {
  "kernelspec": {
   "display_name": "Python 3",
   "language": "python",
   "name": "python3"
  },
  "language_info": {
   "codemirror_mode": {
    "name": "ipython",
    "version": 3
   },
   "file_extension": ".py",
   "mimetype": "text/x-python",
   "name": "python",
   "nbconvert_exporter": "python",
   "pygments_lexer": "ipython3",
   "version": "3.8.5"
  }
 },
 "nbformat": 4,
 "nbformat_minor": 2
}
