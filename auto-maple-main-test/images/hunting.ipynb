{
 "cells": [
  {
   "cell_type": "markdown",
   "metadata": {},
   "source": [
    "## 8/15\n"
   ]
  },
  {
   "cell_type": "code",
   "execution_count": 21,
   "metadata": {
    "scrolled": true
   },
   "outputs": [
    {
     "data": {
      "application/javascript": [
       "\n",
       "Jupyter.keyboard_manager.command_shortcuts.add_shortcut('r', {\n",
       "    help : 'run all cells',\n",
       "    help_index : 'zz',\n",
       "    handler : function (event) {\n",
       "        IPython.notebook.execute_all_cells();\n",
       "        return false;\n",
       "    }}\n",
       ");\n"
      ],
      "text/plain": [
       "<IPython.core.display.Javascript object>"
      ]
     },
     "metadata": {},
     "output_type": "display_data"
    }
   ],
   "source": [
    "%%javascript\n",
    "\n",
    "Jupyter.keyboard_manager.command_shortcuts.add_shortcut('r', {\n",
    "    help : 'run all cells',\n",
    "    help_index : 'zz',\n",
    "    handler : function (event) {\n",
    "        IPython.notebook.execute_all_cells();\n",
    "        return false;\n",
    "    }}\n",
    ");"
   ]
  },
  {
   "cell_type": "code",
   "execution_count": 22,
   "metadata": {},
   "outputs": [],
   "source": [
    "# GUI\n",
    "from tkinter import *\n",
    "from tkinter import scrolledtext\n",
    "from tkinter import simpledialog\n",
    "from tkinter import messagebox\n",
    "import random\n",
    "\n",
    "# macro\n",
    "from pyautogui import *\n",
    "import pyautogui\n",
    "import time\n",
    "import keyboard\n",
    "import random\n",
    "import win32api, win32con"
   ]
  },
  {
   "cell_type": "code",
   "execution_count": 23,
   "metadata": {},
   "outputs": [],
   "source": [
    "# hunting\n",
    "def hunting():\n",
    "    hold_W (5)\n",
    "    \n",
    "def hold_W (hold_time):\n",
    "    start = time.time()\n",
    "    while time.time() - start < hold_time:\n",
    "        pyautogui.press('c')\n",
    "\n",
    "\n",
    "    "
   ]
  },
  {
   "cell_type": "code",
   "execution_count": null,
   "metadata": {},
   "outputs": [],
   "source": [
    "\n",
    "        \n",
    "   "
   ]
  },
  {
   "cell_type": "code",
   "execution_count": 24,
   "metadata": {},
   "outputs": [],
   "source": [
    "\n",
    "window = Tk()\n",
    "window.title('Wheel of Fortune')\n",
    "window.geometry('270x170')\n",
    "\n",
    "\n",
    "        \n",
    "\n",
    "tans = Label(window, text = '' )\n",
    "tans.grid(sticky=\"W\",row = 1 , column = 0)\n",
    "tans = Label(window, text = '                ' )\n",
    "tans.grid(sticky=\"W\",row = 2 , column = 0)\n",
    "\n",
    "tans = Label(window, text = \"\" )\n",
    "tans.grid(sticky=\"W\",row = 2 , column = 1)\n",
    "\n",
    "tans = Label(window, text = \"소드마스터 (동쪽길 2):\" )\n",
    "tans.grid(sticky=\"W\",row = 3 , column = 2)\n",
    "\n",
    "btnconsonant = Button(window, text = 'Start Hunting', command = hunting)\n",
    "btnconsonant.grid(row = 4 , column = 2)\n",
    "\n",
    "timeCounter = Label(window, text = \"\" )\n",
    "timeCounter.grid(sticky=\"W\",row = 5 , column = 2)\n",
    "\n",
    "\n",
    "\n",
    "\n",
    "\n",
    "window.mainloop()"
   ]
  },
  {
   "cell_type": "code",
   "execution_count": null,
   "metadata": {},
   "outputs": [],
   "source": []
  }
 ],
 "metadata": {
  "kernelspec": {
   "display_name": "Python 3",
   "language": "python",
   "name": "python3"
  },
  "language_info": {
   "codemirror_mode": {
    "name": "ipython",
    "version": 3
   },
   "file_extension": ".py",
   "mimetype": "text/x-python",
   "name": "python",
   "nbconvert_exporter": "python",
   "pygments_lexer": "ipython3",
   "version": "3.8.5"
  }
 },
 "nbformat": 4,
 "nbformat_minor": 2
}
